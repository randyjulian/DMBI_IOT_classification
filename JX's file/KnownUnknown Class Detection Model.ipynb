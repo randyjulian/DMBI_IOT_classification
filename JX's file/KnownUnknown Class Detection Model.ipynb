{
 "cells": [
  {
   "cell_type": "code",
   "execution_count": 2,
   "metadata": {},
   "outputs": [
    {
     "name": "stderr",
     "output_type": "stream",
     "text": [
      "C:\\Users\\lim_j\\AppData\\Local\\conda\\conda\\envs\\py36\\lib\\site-packages\\h5py\\__init__.py:36: FutureWarning: Conversion of the second argument of issubdtype from `float` to `np.floating` is deprecated. In future, it will be treated as `np.float64 == np.dtype(float).type`.\n",
      "  from ._conv import register_converters as _register_converters\n",
      "Using TensorFlow backend.\n"
     ]
    }
   ],
   "source": [
    "import os\n",
    "import csv\n",
    "\n",
    "import numpy as np\n",
    "import pandas as pd\n",
    "import matplotlib.pyplot as plt\n",
    "\n",
    "import xgboost as xgb\n",
    "from sklearn.externals import joblib\n",
    "from sklearn.utils import compute_class_weight\n",
    "from sklearn.decomposition import PCA\n",
    "from sklearn.cluster import KMeans\n",
    "from sklearn.metrics import classification_report, f1_score, roc_auc_score, accuracy_score\n",
    "from sklearn.neighbors import KNeighborsClassifier\n",
    "from sklearn.model_selection import train_test_split\n",
    "from sklearn.preprocessing import OneHotEncoder, LabelBinarizer, StandardScaler, LabelEncoder\n",
    "from sklearn.linear_model.logistic import LogisticRegression, LogisticRegressionCV\n",
    "from sklearn.ensemble import RandomForestClassifier\n",
    "from keras import Sequential\n",
    "from keras import optimizers\n",
    "from keras.callbacks import ModelCheckpoint, EarlyStopping\n",
    "from keras.layers import Dropout, Dense\n",
    "from keras.models import load_model"
   ]
  },
  {
   "cell_type": "markdown",
   "metadata": {},
   "source": [
    "Load cleaned data from pickle file"
   ]
  },
  {
   "cell_type": "code",
   "execution_count": 3,
   "metadata": {},
   "outputs": [],
   "source": [
    "cleaned_df = joblib.load('pickles/cleaned_df.pkl')"
   ]
  },
  {
   "cell_type": "markdown",
   "metadata": {},
   "source": [
    "Load top 50 features and extract top 50 features into a list"
   ]
  },
  {
   "cell_type": "code",
   "execution_count": 4,
   "metadata": {},
   "outputs": [],
   "source": [
    "trimmed_feats_list = joblib.load('pickles/57var.pkl')\n",
    "trimmed_feats_list.append('device_category')"
   ]
  },
  {
   "cell_type": "markdown",
   "metadata": {},
   "source": [
    "Filter dataset to only use the 57 relevant features"
   ]
  },
  {
   "cell_type": "code",
   "execution_count": 5,
   "metadata": {},
   "outputs": [
    {
     "data": {
      "text/plain": [
       "(399348, 57)"
      ]
     },
     "execution_count": 5,
     "metadata": {},
     "output_type": "execute_result"
    }
   ],
   "source": [
    "filtered_df = cleaned_df.filter(items=trimmed_feats_list, axis='columns')\n",
    "filtered_df.shape"
   ]
  },
  {
   "cell_type": "markdown",
   "metadata": {},
   "source": [
    "Obtain list of unique classes and create list of names of feature engineered columns"
   ]
  },
  {
   "cell_type": "code",
   "execution_count": 6,
   "metadata": {},
   "outputs": [],
   "source": [
    "distinct_classes = filtered_df.device_category.unique()\n",
    "training_cols = ['sd', 'sem', 'var', 'skew', 'kurt', 'mad', 'shortest_dist_sd', 'shortest_dist_diff', 'sd_diff_smallest2next', 'known']"
   ]
  },
  {
   "cell_type": "markdown",
   "metadata": {},
   "source": [
    "Feature Engineering Function"
   ]
  },
  {
   "cell_type": "code",
   "execution_count": 7,
   "metadata": {},
   "outputs": [],
   "source": [
    "def dist_engineered_df(knn_distance_output, training=False, label=0):\n",
    "    distance_df = pd.DataFrame([[distance for distance in row] for row in knn_distance_output[0]])\n",
    "    output_df = pd.DataFrame()\n",
    "    \n",
    "    sd = distance_df.std(axis=1, numeric_only=True)\n",
    "    min = distance_df.min(axis=1, numeric_only=True)\n",
    "    mean = distance_df.mean(axis=1, numeric_only=True)\n",
    "    two_smallest_dist_df = pd.DataFrame(np.sort(distance_df.values))\n",
    "    second_smallest_dist_df = two_smallest_dist_df.iloc[:, -2]\n",
    "    smallest_dist_df = two_smallest_dist_df.iloc[:, -1]\n",
    "    \n",
    "    output_df['sd'] = sd\n",
    "    output_df['sem'] = distance_df.sem(axis=1, numeric_only=True)\n",
    "    output_df['var'] = distance_df.var(axis=1, numeric_only=True)\n",
    "    output_df['skew'] = distance_df.skew(axis=1, numeric_only=True)\n",
    "    output_df['kurt'] = distance_df.kurt(axis=1, numeric_only=True)\n",
    "    output_df['mad'] = distance_df.mad(axis=1)\n",
    "    output_df['shortest_dist_sd'] = smallest_dist_df / sd\n",
    "    output_df['shortest_dist_diff'] = (mean - min) / sd\n",
    "    output_df['sd_diff_smallest2next'] = (second_smallest_dist_df - min) / sd\n",
    "    \n",
    "    if training:\n",
    "        output_df['known'] = pd.Series([label for _ in range(len(output_df.index))])\n",
    "    \n",
    "    return output_df"
   ]
  },
  {
   "cell_type": "markdown",
   "metadata": {},
   "source": [
    "Build training dataset for known/unknown detection classifier"
   ]
  },
  {
   "cell_type": "code",
   "execution_count": 79,
   "metadata": {
    "scrolled": false
   },
   "outputs": [],
   "source": [
    "training_df = pd.DataFrame()\n",
    "knn = KNeighborsClassifier(n_neighbors=9, weights='uniform', algorithm='auto', p=2, n_jobs=-1, leaf_size=30)\n",
    "\n",
    "for out_class in distinct_classes:\n",
    "    nine_classes_list = distinct_classes.tolist()\n",
    "    nine_classes_list.remove(out_class)\n",
    "    \n",
    "    in_classes_samples = pd.DataFrame()\n",
    "    nine_classes_df = filtered_df[filtered_df['device_category'] != out_class]\n",
    "    out_class_df = filtered_df[filtered_df['device_category'] == out_class]\n",
    "    \n",
    "    for in_class in nine_classes_list:\n",
    "        in_class_df = filtered_df[filtered_df['device_category'] == in_class]\n",
    "        in_class_sample = in_class_df.sample(250, random_state=1, axis=0, replace=True)\n",
    "        index_to_drop = in_class_sample.index.tolist()\n",
    "        nine_classes_df = nine_classes_df.drop(index_to_drop)\n",
    "        in_class_sample = in_class_sample.reset_index()\n",
    "        in_classes_samples = pd.concat([in_classes_samples, in_class_sample], axis=0, ignore_index=True)\n",
    "    \n",
    "    train_x, _, train_y, _ = train_test_split(nine_classes_df.iloc[:, :-1], nine_classes_df.iloc[:, -1], train_size=90000, \n",
    "                                              test_size=9, random_state=1, shuffle=True, stratify=nine_classes_df.iloc[:, -1])\n",
    "    knn.fit(train_x, train_y)\n",
    "    \n",
    "    val_x, val_y = in_classes_samples.iloc[:, 1:-1], in_classes_samples.iloc[:, -1]\n",
    "    val_output = knn.kneighbors(val_x, n_neighbors=9, return_distance=True)\n",
    "    val_distance_df = dist_engineered_df(val_output, training=True, label=1)\n",
    "        \n",
    "    out_class_df = out_class_df.sample(n=250, random_state=1, axis=0, replace=True)\n",
    "    test_x, test_y = out_class_df.iloc[:, :-1], out_class_df.iloc[:, -1]\n",
    "    test_output = knn.kneighbors(test_x, n_neighbors=9, return_distance=True)\n",
    "    test_distance_df = dist_engineered_df(test_output, training=True, label=0)\n",
    "    \n",
    "    combined_df = pd.concat([val_distance_df, test_distance_df], axis=0, ignore_index=True).filter(items=training_cols, axis='columns')\n",
    "    training_df = pd.concat([training_df, combined_df], axis=0, ignore_index=True)"
   ]
  },
  {
   "cell_type": "markdown",
   "metadata": {},
   "source": [
    "Check counts of labels"
   ]
  },
  {
   "cell_type": "code",
   "execution_count": 80,
   "metadata": {
    "scrolled": true
   },
   "outputs": [
    {
     "data": {
      "text/plain": [
       "1    22500\n",
       "0     2500\n",
       "Name: known, dtype: int64"
      ]
     },
     "execution_count": 80,
     "metadata": {},
     "output_type": "execute_result"
    }
   ],
   "source": [
    "training_df['known'].value_counts()"
   ]
  },
  {
   "cell_type": "markdown",
   "metadata": {},
   "source": [
    "Clean up the dataset"
   ]
  },
  {
   "cell_type": "code",
   "execution_count": 81,
   "metadata": {},
   "outputs": [],
   "source": [
    "training_df = training_df.replace([np.inf, -np.inf], np.nan)\n",
    "training_df = training_df.replace(np.nan, 0)"
   ]
  },
  {
   "cell_type": "markdown",
   "metadata": {},
   "source": [
    "Save the labelled dataset obtained from KNN models"
   ]
  },
  {
   "cell_type": "code",
   "execution_count": 82,
   "metadata": {},
   "outputs": [
    {
     "data": {
      "text/plain": [
       "['pickles/known_classifier_dataset_v5.pkl']"
      ]
     },
     "execution_count": 82,
     "metadata": {},
     "output_type": "execute_result"
    }
   ],
   "source": [
    "joblib.dump(training_df, 'pickles/known_classifier_dataset_v5.pkl', compress=9)"
   ]
  },
  {
   "cell_type": "markdown",
   "metadata": {},
   "source": [
    "Load the labelled dataset obtained from KNN models"
   ]
  },
  {
   "cell_type": "code",
   "execution_count": 83,
   "metadata": {},
   "outputs": [
    {
     "data": {
      "text/html": [
       "<div>\n",
       "<style scoped>\n",
       "    .dataframe tbody tr th:only-of-type {\n",
       "        vertical-align: middle;\n",
       "    }\n",
       "\n",
       "    .dataframe tbody tr th {\n",
       "        vertical-align: top;\n",
       "    }\n",
       "\n",
       "    .dataframe thead th {\n",
       "        text-align: right;\n",
       "    }\n",
       "</style>\n",
       "<table border=\"1\" class=\"dataframe\">\n",
       "  <thead>\n",
       "    <tr style=\"text-align: right;\">\n",
       "      <th></th>\n",
       "      <th>sd</th>\n",
       "      <th>sem</th>\n",
       "      <th>var</th>\n",
       "      <th>skew</th>\n",
       "      <th>kurt</th>\n",
       "      <th>mad</th>\n",
       "      <th>shortest_dist_sd</th>\n",
       "      <th>shortest_dist_diff</th>\n",
       "      <th>sd_diff_smallest2next</th>\n",
       "      <th>known</th>\n",
       "    </tr>\n",
       "  </thead>\n",
       "  <tbody>\n",
       "    <tr>\n",
       "      <th>0</th>\n",
       "      <td>0.000698</td>\n",
       "      <td>0.000233</td>\n",
       "      <td>4.865071e-07</td>\n",
       "      <td>-0.127330</td>\n",
       "      <td>-0.868442</td>\n",
       "      <td>0.000558</td>\n",
       "      <td>6.112792</td>\n",
       "      <td>1.655023</td>\n",
       "      <td>2.788364</td>\n",
       "      <td>1</td>\n",
       "    </tr>\n",
       "    <tr>\n",
       "      <th>1</th>\n",
       "      <td>0.000468</td>\n",
       "      <td>0.000156</td>\n",
       "      <td>2.190185e-07</td>\n",
       "      <td>-0.634079</td>\n",
       "      <td>0.131796</td>\n",
       "      <td>0.000353</td>\n",
       "      <td>5.778269</td>\n",
       "      <td>1.891482</td>\n",
       "      <td>2.888499</td>\n",
       "      <td>1</td>\n",
       "    </tr>\n",
       "    <tr>\n",
       "      <th>2</th>\n",
       "      <td>0.000264</td>\n",
       "      <td>0.000088</td>\n",
       "      <td>6.987286e-08</td>\n",
       "      <td>0.516662</td>\n",
       "      <td>-1.500261</td>\n",
       "      <td>0.000223</td>\n",
       "      <td>7.378833</td>\n",
       "      <td>1.111323</td>\n",
       "      <td>2.235341</td>\n",
       "      <td>1</td>\n",
       "    </tr>\n",
       "    <tr>\n",
       "      <th>3</th>\n",
       "      <td>0.000296</td>\n",
       "      <td>0.000099</td>\n",
       "      <td>8.745665e-08</td>\n",
       "      <td>-0.651498</td>\n",
       "      <td>-0.340732</td>\n",
       "      <td>0.000235</td>\n",
       "      <td>5.670681</td>\n",
       "      <td>1.841909</td>\n",
       "      <td>2.874019</td>\n",
       "      <td>1</td>\n",
       "    </tr>\n",
       "    <tr>\n",
       "      <th>4</th>\n",
       "      <td>5.617791</td>\n",
       "      <td>1.872597</td>\n",
       "      <td>3.155958e+01</td>\n",
       "      <td>0.075837</td>\n",
       "      <td>-1.263892</td>\n",
       "      <td>4.633068</td>\n",
       "      <td>5.432344</td>\n",
       "      <td>1.436004</td>\n",
       "      <td>2.600108</td>\n",
       "      <td>1</td>\n",
       "    </tr>\n",
       "  </tbody>\n",
       "</table>\n",
       "</div>"
      ],
      "text/plain": [
       "         sd       sem           var      skew      kurt       mad  \\\n",
       "0  0.000698  0.000233  4.865071e-07 -0.127330 -0.868442  0.000558   \n",
       "1  0.000468  0.000156  2.190185e-07 -0.634079  0.131796  0.000353   \n",
       "2  0.000264  0.000088  6.987286e-08  0.516662 -1.500261  0.000223   \n",
       "3  0.000296  0.000099  8.745665e-08 -0.651498 -0.340732  0.000235   \n",
       "4  5.617791  1.872597  3.155958e+01  0.075837 -1.263892  4.633068   \n",
       "\n",
       "   shortest_dist_sd  shortest_dist_diff  sd_diff_smallest2next  known  \n",
       "0          6.112792            1.655023               2.788364      1  \n",
       "1          5.778269            1.891482               2.888499      1  \n",
       "2          7.378833            1.111323               2.235341      1  \n",
       "3          5.670681            1.841909               2.874019      1  \n",
       "4          5.432344            1.436004               2.600108      1  "
      ]
     },
     "execution_count": 83,
     "metadata": {},
     "output_type": "execute_result"
    }
   ],
   "source": [
    "training_df = joblib.load('pickles/known_classifier_dataset_v5.pkl')\n",
    "training_df.head()"
   ]
  },
  {
   "cell_type": "markdown",
   "metadata": {},
   "source": [
    "### Prepare feature engineered dataset, splitting to train-test using 80-20 ratio\n",
    "Scale using standard scaling so that models are able to better learn from dataset"
   ]
  },
  {
   "cell_type": "code",
   "execution_count": 109,
   "metadata": {},
   "outputs": [],
   "source": [
    "x, y = training_df.drop('known', axis=1), training_df['known']\n",
    "class_weights = compute_class_weight('balanced', np.unique(y), y)\n",
    "scaler = StandardScaler()\n",
    "x = scaler.fit_transform(x)\n",
    "x_train, x_test, y_train, y_test = train_test_split(x, y, test_size=0.2, random_state=1, stratify=y)"
   ]
  },
  {
   "cell_type": "markdown",
   "metadata": {},
   "source": [
    "### Logistic Regression Model for KnownUnknown Class Detection\n",
    "#### Using Stochastic Average Gradient for negate the large dataset impact on training time"
   ]
  },
  {
   "cell_type": "code",
   "execution_count": 110,
   "metadata": {},
   "outputs": [
    {
     "name": "stdout",
     "output_type": "stream",
     "text": [
      "convergence after 37 epochs took 3 seconds\n",
      "convergence after 37 epochs took 3 seconds\n",
      "convergence after 37 epochs took 3 seconds\n",
      "convergence after 38 epochs took 3 seconds\n",
      "convergence after 60 epochs took 4 seconds\n",
      "convergence after 60 epochs took 4 seconds\n",
      "convergence after 61 epochs took 4 seconds\n",
      "convergence after 61 epochs took 4 seconds\n",
      "convergence after 277 epochs took 19 seconds\n",
      "convergence after 279 epochs took 20 seconds\n",
      "convergence after 281 epochs took 20 seconds\n",
      "convergence after 281 epochs took 20 seconds\n",
      "convergence after 840 epochs took 58 seconds\n",
      "convergence after 843 epochs took 59 seconds\n",
      "convergence after 855 epochs took 59 seconds\n",
      "convergence after 895 epochs took 62 seconds\n",
      "max_iter reached after 110 seconds\n"
     ]
    },
    {
     "name": "stderr",
     "output_type": "stream",
     "text": [
      "C:\\Users\\lim_j\\AppData\\Local\\conda\\conda\\envs\\py36\\lib\\site-packages\\sklearn\\linear_model\\sag.py:326: ConvergenceWarning: The max_iter was reached which means the coef_ did not converge\n",
      "  \"the coef_ did not converge\", ConvergenceWarning)\n"
     ]
    },
    {
     "name": "stdout",
     "output_type": "stream",
     "text": [
      "max_iter reached after 110 seconds\n",
      "max_iter reached after 111 seconds\n",
      "max_iter reached after 110 seconds\n",
      "max_iter reached after 110 seconds\n",
      "max_iter reached after 111 seconds\n",
      "max_iter reached after 112 seconds\n",
      "max_iter reached after 111 seconds\n",
      "max_iter reached after 111 seconds\n",
      "max_iter reached after 111 seconds\n",
      "max_iter reached after 111 seconds\n",
      "max_iter reached after 113 seconds\n",
      "max_iter reached after 112 seconds\n",
      "max_iter reached after 113 seconds\n",
      "max_iter reached after 112 seconds\n",
      "max_iter reached after 114 seconds\n",
      "max_iter reached after 112 seconds\n",
      "max_iter reached after 112 seconds\n",
      "max_iter reached after 112 seconds\n",
      "max_iter reached after 113 seconds\n",
      "convergence after 212 epochs took 16 seconds\n",
      "convergence after 38 epochs took 3 seconds\n",
      "convergence after 60 epochs took 4 seconds\n",
      "convergence after 289 epochs took 22 seconds\n",
      "convergence after 218 epochs took 16 seconds\n",
      "convergence after 35 epochs took 3 seconds\n",
      "convergence after 38 epochs took 3 seconds\n",
      "convergence after 60 epochs took 4 seconds\n",
      "convergence after 60 epochs took 5 seconds\n",
      "convergence after 367 epochs took 28 seconds\n",
      "convergence after 38 epochs took 2 seconds\n",
      "convergence after 61 epochs took 5 seconds\n",
      "convergence after 280 epochs took 21 seconds\n",
      "convergence after 279 epochs took 21 seconds\n",
      "convergence after 280 epochs took 21 seconds\n",
      "convergence after 281 epochs took 21 seconds\n",
      "convergence after 899 epochs took 63 seconds\n",
      "convergence after 814 epochs took 56 seconds\n",
      "convergence after 880 epochs took 61 seconds\n",
      "convergence after 859 epochs took 58 seconds\n",
      "max_iter reached after 103 seconds\n",
      "max_iter reached after 106 seconds\n",
      "max_iter reached after 107 seconds\n",
      "max_iter reached after 105 seconds\n",
      "max_iter reached after 113 seconds\n",
      "max_iter reached after 113 seconds\n",
      "max_iter reached after 113 seconds\n",
      "max_iter reached after 113 seconds\n",
      "max_iter reached after 103 seconds\n",
      "max_iter reached after 103 seconds\n",
      "max_iter reached after 101 seconds\n",
      "max_iter reached after 104 seconds\n",
      "max_iter reached after 101 seconds\n",
      "max_iter reached after 101 seconds\n",
      "max_iter reached after 100 seconds\n",
      "max_iter reached after 103 seconds\n",
      "max_iter reached after 101 seconds\n",
      "max_iter reached after 102 seconds\n",
      "max_iter reached after 101 seconds\n",
      "max_iter reached after 103 seconds\n",
      "convergence after 291 epochs took 20 seconds\n",
      "convergence after 216 epochs took 15 seconds\n",
      "convergence after 38 epochs took 2 seconds\n",
      "convergence after 38 epochs took 2 seconds\n",
      "convergence after 60 epochs took 4 seconds\n",
      "convergence after 59 epochs took 4 seconds\n",
      "convergence after 263 epochs took 18 seconds\n",
      "convergence after 378 epochs took 22 seconds\n",
      "convergence after 279 epochs took 14 seconds\n",
      "convergence after 276 epochs took 13 seconds\n",
      "convergence after 627 epochs took 18 seconds\n",
      "convergence after 858 epochs took 25 seconds\n",
      "max_iter reached after 40 seconds\n",
      "max_iter reached after 40 seconds\n",
      "max_iter reached after 40 seconds\n",
      "max_iter reached after 41 seconds\n",
      "max_iter reached after 41 seconds\n",
      "max_iter reached after 42 seconds\n",
      "max_iter reached after 40 seconds\n",
      "max_iter reached after 41 seconds\n",
      "max_iter reached after 39 seconds\n",
      "max_iter reached after 41 seconds\n",
      "convergence after 254 epochs took 6 seconds\n",
      "max_iter reached after 24 seconds\n"
     ]
    },
    {
     "name": "stderr",
     "output_type": "stream",
     "text": [
      "[Parallel(n_jobs=-1)]: Done  10 out of  10 | elapsed: 25.8min finished\n"
     ]
    },
    {
     "name": "stdout",
     "output_type": "stream",
     "text": [
      "convergence after 40 epochs took 1 seconds\n"
     ]
    },
    {
     "data": {
      "text/plain": [
       "LogisticRegressionCV(Cs=10, class_weight=None, cv=10, dual=False,\n",
       "           fit_intercept=True, intercept_scaling=1.0, max_iter=1500,\n",
       "           multi_class='ovr', n_jobs=-1, penalty='l2', random_state=5,\n",
       "           refit=True, scoring='accuracy', solver='sag', tol=0.0001,\n",
       "           verbose=2)"
      ]
     },
     "execution_count": 110,
     "metadata": {},
     "output_type": "execute_result"
    }
   ],
   "source": [
    "log_reg = LogisticRegressionCV(cv=10, dual=False, penalty='l2', scoring='accuracy', solver='sag', max_iter=1500, n_jobs=-1, \n",
    "                               verbose=2, multi_class='ovr', random_state=5)\n",
    "log_reg.fit(x_train, y_train)"
   ]
  },
  {
   "cell_type": "markdown",
   "metadata": {},
   "source": [
    "Logistic Regression Model Predictions"
   ]
  },
  {
   "cell_type": "code",
   "execution_count": 111,
   "metadata": {},
   "outputs": [
    {
     "name": "stdout",
     "output_type": "stream",
     "text": [
      "             precision    recall  f1-score   support\n",
      "\n",
      "          0       1.00      0.00      0.00       500\n",
      "          1       0.90      1.00      0.95      4500\n",
      "\n",
      "avg / total       0.91      0.90      0.85      5000\n",
      "\n"
     ]
    }
   ],
   "source": [
    "log_reg_preds = log_reg.predict(x_test)\n",
    "print(classification_report(y_test, log_reg_preds))"
   ]
  },
  {
   "cell_type": "markdown",
   "metadata": {},
   "source": [
    "### Random Forest Model for KnownUnknown Class Detection\n",
    "#### Using 1000 Decision Trees, Bagging and balancing class weights"
   ]
  },
  {
   "cell_type": "code",
   "execution_count": 112,
   "metadata": {},
   "outputs": [
    {
     "name": "stderr",
     "output_type": "stream",
     "text": [
      "[Parallel(n_jobs=-1)]: Done  42 tasks      | elapsed:    1.5s\n",
      "[Parallel(n_jobs=-1)]: Done 192 tasks      | elapsed:    6.3s\n",
      "[Parallel(n_jobs=-1)]: Done 442 tasks      | elapsed:   15.0s\n",
      "[Parallel(n_jobs=-1)]: Done 792 tasks      | elapsed:   26.0s\n",
      "[Parallel(n_jobs=-1)]: Done 1000 out of 1000 | elapsed:   32.4s finished\n"
     ]
    },
    {
     "data": {
      "text/plain": [
       "RandomForestClassifier(bootstrap=True, class_weight='balanced',\n",
       "            criterion='gini', max_depth=None, max_features='auto',\n",
       "            max_leaf_nodes=None, min_impurity_decrease=0.0,\n",
       "            min_impurity_split=None, min_samples_leaf=1,\n",
       "            min_samples_split=2, min_weight_fraction_leaf=0.0,\n",
       "            n_estimators=1000, n_jobs=-1, oob_score=True, random_state=5,\n",
       "            verbose=1, warm_start=False)"
      ]
     },
     "execution_count": 112,
     "metadata": {},
     "output_type": "execute_result"
    }
   ],
   "source": [
    "rf = RandomForestClassifier(1000, criterion='gini', oob_score=True, n_jobs=-1,\n",
    "                            random_state=5, class_weight='balanced', verbose=1)\n",
    "rf.fit(x_train, y_train)"
   ]
  },
  {
   "cell_type": "markdown",
   "metadata": {},
   "source": [
    "Random Forest Model Predictions"
   ]
  },
  {
   "cell_type": "code",
   "execution_count": 113,
   "metadata": {},
   "outputs": [
    {
     "name": "stderr",
     "output_type": "stream",
     "text": [
      "[Parallel(n_jobs=4)]: Done  42 tasks      | elapsed:    0.0s\n",
      "[Parallel(n_jobs=4)]: Done 192 tasks      | elapsed:    0.1s\n",
      "[Parallel(n_jobs=4)]: Done 442 tasks      | elapsed:    0.4s\n",
      "[Parallel(n_jobs=4)]: Done 792 tasks      | elapsed:    0.8s\n",
      "[Parallel(n_jobs=4)]: Done 1000 out of 1000 | elapsed:    1.0s finished\n"
     ]
    },
    {
     "name": "stdout",
     "output_type": "stream",
     "text": [
      "             precision    recall  f1-score   support\n",
      "\n",
      "          0       0.65      0.36      0.47       500\n",
      "          1       0.93      0.98      0.96      4500\n",
      "\n",
      "avg / total       0.90      0.92      0.91      5000\n",
      "\n"
     ]
    }
   ],
   "source": [
    "rf_preds = rf.predict(x_test)\n",
    "print(classification_report(y_test, rf_preds))"
   ]
  },
  {
   "cell_type": "markdown",
   "metadata": {},
   "source": [
    "### XGBoost Model for KnownUnknown Class Detection"
   ]
  },
  {
   "cell_type": "code",
   "execution_count": 114,
   "metadata": {},
   "outputs": [],
   "source": [
    "dtrain = xgb.DMatrix(x_train, label=np.array(y_train))\n",
    "dtest = xgb.DMatrix(x_test, label=np.array(y_test))"
   ]
  },
  {
   "cell_type": "code",
   "execution_count": 115,
   "metadata": {},
   "outputs": [],
   "source": [
    "param = {\n",
    "    'max_depth': 10,\n",
    "    'eta': 0.1,\n",
    "    'silent': 0,\n",
    "    'objective': 'binary:logistic',\n",
    "    'eval_metric': 'error'\n",
    "}\n",
    "num_round = 1000\n",
    "early_stop = 100"
   ]
  },
  {
   "cell_type": "code",
   "execution_count": 116,
   "metadata": {
    "scrolled": true
   },
   "outputs": [
    {
     "name": "stdout",
     "output_type": "stream",
     "text": [
      "[0]\teval-error:0.0686\n",
      "Will train until eval-error hasn't improved in 100 rounds.\n",
      "[100]\teval-error:0.0632\n",
      "Stopping. Best iteration:\n",
      "[17]\teval-error:0.0624\n",
      "\n"
     ]
    }
   ],
   "source": [
    "bst = xgb.train(param, dtrain, num_round, evals=[(dtest,'eval')], verbose_eval=100, \n",
    "                early_stopping_rounds=early_stop)"
   ]
  },
  {
   "cell_type": "code",
   "execution_count": 117,
   "metadata": {},
   "outputs": [
    {
     "name": "stdout",
     "output_type": "stream",
     "text": [
      "             precision    recall  f1-score   support\n",
      "\n",
      "          0       0.89      0.42      0.57       500\n",
      "          1       0.94      0.99      0.97      4500\n",
      "\n",
      "avg / total       0.93      0.94      0.93      5000\n",
      "\n"
     ]
    }
   ],
   "source": [
    "xgb_prob_preds = bst.predict(dtest)\n",
    "xgb_preds = np.asarray([1 if line > 0.5 else 0 for line in xgb_prob_preds]).astype('int64')\n",
    "print(classification_report(y_test, xgb_preds))"
   ]
  },
  {
   "cell_type": "markdown",
   "metadata": {},
   "source": [
    "### Neural Network Model for KnownUnknown Class Detection (3 Hidden Layers)\n",
    "#### Using relu as activation functions for hidden layers due to its robustness and the absence of vanishing gradient problem when using it. Sigmoid is used as the activation function for the output as it is a binary classification problem.\n",
    "\n",
    "#### Loss function of binary crossentropy is used as it is a binary classification problem."
   ]
  },
  {
   "cell_type": "code",
   "execution_count": 118,
   "metadata": {
    "scrolled": true
   },
   "outputs": [
    {
     "name": "stdout",
     "output_type": "stream",
     "text": [
      "Train on 16000 samples, validate on 4000 samples\n",
      "Epoch 1/10000\n",
      " - 4s - loss: 0.3465 - acc: 0.8973 - val_loss: 0.3311 - val_acc: 0.8958\n",
      "\n",
      "Epoch 00001: val_loss improved from inf to 0.33109, saving model to known_classifier_nn.h5\n",
      "Epoch 2/10000\n",
      " - 3s - loss: 0.3240 - acc: 0.9011 - val_loss: 0.3191 - val_acc: 0.8958\n",
      "\n",
      "Epoch 00002: val_loss improved from 0.33109 to 0.31908, saving model to known_classifier_nn.h5\n",
      "Epoch 3/10000\n",
      " - 4s - loss: 0.3206 - acc: 0.9011 - val_loss: 0.3174 - val_acc: 0.8958\n",
      "\n",
      "Epoch 00003: val_loss improved from 0.31908 to 0.31736, saving model to known_classifier_nn.h5\n",
      "Epoch 4/10000\n",
      " - 3s - loss: 0.3214 - acc: 0.9012 - val_loss: 0.3170 - val_acc: 0.8958\n",
      "\n",
      "Epoch 00004: val_loss improved from 0.31736 to 0.31704, saving model to known_classifier_nn.h5\n",
      "Epoch 5/10000\n",
      " - 3s - loss: 0.3183 - acc: 0.9009 - val_loss: 0.3192 - val_acc: 0.8958\n",
      "\n",
      "Epoch 00005: val_loss did not improve from 0.31704\n",
      "Epoch 6/10000\n",
      " - 3s - loss: 0.3153 - acc: 0.9011 - val_loss: 0.3147 - val_acc: 0.8970\n",
      "\n",
      "Epoch 00006: val_loss improved from 0.31704 to 0.31467, saving model to known_classifier_nn.h5\n",
      "Epoch 7/10000\n",
      " - 4s - loss: 0.3143 - acc: 0.9012 - val_loss: 0.3133 - val_acc: 0.8970\n",
      "\n",
      "Epoch 00007: val_loss improved from 0.31467 to 0.31331, saving model to known_classifier_nn.h5\n",
      "Epoch 8/10000\n",
      " - 3s - loss: 0.3130 - acc: 0.9014 - val_loss: 0.3124 - val_acc: 0.8970\n",
      "\n",
      "Epoch 00008: val_loss improved from 0.31331 to 0.31237, saving model to known_classifier_nn.h5\n",
      "Epoch 9/10000\n",
      " - 3s - loss: 0.3117 - acc: 0.9022 - val_loss: 0.3124 - val_acc: 0.8970\n",
      "\n",
      "Epoch 00009: val_loss did not improve from 0.31237\n",
      "Epoch 10/10000\n",
      " - 3s - loss: 0.3114 - acc: 0.9019 - val_loss: 0.3086 - val_acc: 0.8972\n",
      "\n",
      "Epoch 00010: val_loss improved from 0.31237 to 0.30862, saving model to known_classifier_nn.h5\n",
      "Epoch 11/10000\n",
      " - 3s - loss: 0.3088 - acc: 0.9015 - val_loss: 0.3098 - val_acc: 0.8962\n",
      "\n",
      "Epoch 00011: val_loss did not improve from 0.30862\n",
      "Epoch 12/10000\n",
      " - 3s - loss: 0.3084 - acc: 0.9016 - val_loss: 0.3138 - val_acc: 0.8970\n",
      "\n",
      "Epoch 00012: val_loss did not improve from 0.30862\n",
      "Epoch 13/10000\n",
      " - 3s - loss: 0.3083 - acc: 0.9026 - val_loss: 0.3075 - val_acc: 0.8970\n",
      "\n",
      "Epoch 00013: val_loss improved from 0.30862 to 0.30752, saving model to known_classifier_nn.h5\n",
      "Epoch 14/10000\n",
      " - 4s - loss: 0.3058 - acc: 0.9025 - val_loss: 0.3069 - val_acc: 0.8970\n",
      "\n",
      "Epoch 00014: val_loss improved from 0.30752 to 0.30692, saving model to known_classifier_nn.h5\n",
      "Epoch 15/10000\n",
      " - 3s - loss: 0.3064 - acc: 0.9027 - val_loss: 0.3062 - val_acc: 0.8968\n",
      "\n",
      "Epoch 00015: val_loss improved from 0.30692 to 0.30621, saving model to known_classifier_nn.h5\n",
      "Epoch 16/10000\n",
      " - 3s - loss: 0.3048 - acc: 0.9031 - val_loss: 0.3055 - val_acc: 0.8970\n",
      "\n",
      "Epoch 00016: val_loss improved from 0.30621 to 0.30548, saving model to known_classifier_nn.h5\n",
      "Epoch 17/10000\n",
      " - 3s - loss: 0.3028 - acc: 0.9031 - val_loss: 0.3049 - val_acc: 0.8978\n",
      "\n",
      "Epoch 00017: val_loss improved from 0.30548 to 0.30485, saving model to known_classifier_nn.h5\n",
      "Epoch 18/10000\n",
      " - 3s - loss: 0.3022 - acc: 0.9037 - val_loss: 0.3050 - val_acc: 0.8972\n",
      "\n",
      "Epoch 00018: val_loss did not improve from 0.30485\n",
      "Epoch 19/10000\n",
      " - 3s - loss: 0.3013 - acc: 0.9056 - val_loss: 0.3057 - val_acc: 0.8972\n",
      "\n",
      "Epoch 00019: val_loss did not improve from 0.30485\n",
      "Epoch 20/10000\n",
      " - 3s - loss: 0.3015 - acc: 0.9037 - val_loss: 0.3016 - val_acc: 0.9032\n",
      "\n",
      "Epoch 00020: val_loss improved from 0.30485 to 0.30155, saving model to known_classifier_nn.h5\n",
      "Epoch 21/10000\n",
      " - 3s - loss: 0.3005 - acc: 0.9046 - val_loss: 0.3037 - val_acc: 0.8975\n",
      "\n",
      "Epoch 00021: val_loss did not improve from 0.30155\n",
      "Epoch 22/10000\n",
      " - 3s - loss: 0.2989 - acc: 0.9046 - val_loss: 0.3031 - val_acc: 0.8982\n",
      "\n",
      "Epoch 00022: val_loss did not improve from 0.30155\n",
      "Epoch 23/10000\n",
      " - 3s - loss: 0.2980 - acc: 0.9050 - val_loss: 0.3000 - val_acc: 0.9030\n",
      "\n",
      "Epoch 00023: val_loss improved from 0.30155 to 0.29996, saving model to known_classifier_nn.h5\n",
      "Epoch 24/10000\n",
      " - 3s - loss: 0.2998 - acc: 0.9047 - val_loss: 0.3098 - val_acc: 0.8975\n",
      "\n",
      "Epoch 00024: val_loss did not improve from 0.29996\n",
      "Epoch 25/10000\n",
      " - 3s - loss: 0.2971 - acc: 0.9046 - val_loss: 0.2996 - val_acc: 0.9025\n",
      "\n",
      "Epoch 00025: val_loss improved from 0.29996 to 0.29959, saving model to known_classifier_nn.h5\n",
      "Epoch 26/10000\n",
      " - 3s - loss: 0.2955 - acc: 0.9057 - val_loss: 0.2995 - val_acc: 0.9028\n",
      "\n",
      "Epoch 00026: val_loss improved from 0.29959 to 0.29947, saving model to known_classifier_nn.h5\n",
      "Epoch 27/10000\n",
      " - 3s - loss: 0.2963 - acc: 0.9061 - val_loss: 0.2983 - val_acc: 0.9035\n",
      "\n",
      "Epoch 00027: val_loss improved from 0.29947 to 0.29832, saving model to known_classifier_nn.h5\n",
      "Epoch 28/10000\n",
      " - 3s - loss: 0.2975 - acc: 0.9051 - val_loss: 0.2978 - val_acc: 0.9018\n",
      "\n",
      "Epoch 00028: val_loss improved from 0.29832 to 0.29781, saving model to known_classifier_nn.h5\n",
      "Epoch 29/10000\n",
      " - 3s - loss: 0.2957 - acc: 0.9065 - val_loss: 0.2982 - val_acc: 0.9048\n",
      "\n",
      "Epoch 00029: val_loss did not improve from 0.29781\n",
      "Epoch 30/10000\n",
      " - 3s - loss: 0.2960 - acc: 0.9064 - val_loss: 0.2981 - val_acc: 0.9040\n",
      "\n",
      "Epoch 00030: val_loss did not improve from 0.29781\n",
      "Epoch 31/10000\n",
      " - 3s - loss: 0.2968 - acc: 0.9052 - val_loss: 0.2981 - val_acc: 0.9035\n",
      "\n",
      "Epoch 00031: val_loss did not improve from 0.29781\n",
      "Epoch 32/10000\n",
      " - 4s - loss: 0.2963 - acc: 0.9056 - val_loss: 0.3016 - val_acc: 0.9015\n",
      "\n",
      "Epoch 00032: val_loss did not improve from 0.29781\n",
      "Epoch 33/10000\n",
      " - 3s - loss: 0.2957 - acc: 0.9060 - val_loss: 0.2984 - val_acc: 0.9025\n",
      "\n",
      "Epoch 00033: val_loss did not improve from 0.29781\n",
      "Epoch 34/10000\n",
      " - 3s - loss: 0.2939 - acc: 0.9077 - val_loss: 0.2976 - val_acc: 0.9035\n",
      "\n",
      "Epoch 00034: val_loss improved from 0.29781 to 0.29759, saving model to known_classifier_nn.h5\n",
      "Epoch 35/10000\n",
      " - 3s - loss: 0.2928 - acc: 0.9072 - val_loss: 0.2987 - val_acc: 0.9022\n",
      "\n",
      "Epoch 00035: val_loss did not improve from 0.29759\n",
      "Epoch 36/10000\n",
      " - 3s - loss: 0.2927 - acc: 0.9074 - val_loss: 0.2964 - val_acc: 0.9045\n",
      "\n",
      "Epoch 00036: val_loss improved from 0.29759 to 0.29640, saving model to known_classifier_nn.h5\n",
      "Epoch 37/10000\n",
      " - 3s - loss: 0.2959 - acc: 0.9057 - val_loss: 0.2958 - val_acc: 0.9050\n",
      "\n",
      "Epoch 00037: val_loss improved from 0.29640 to 0.29575, saving model to known_classifier_nn.h5\n",
      "Epoch 38/10000\n",
      " - 3s - loss: 0.2951 - acc: 0.9066 - val_loss: 0.2967 - val_acc: 0.9042\n",
      "\n",
      "Epoch 00038: val_loss did not improve from 0.29575\n",
      "Epoch 39/10000\n",
      " - 3s - loss: 0.2938 - acc: 0.9071 - val_loss: 0.2956 - val_acc: 0.9062\n",
      "\n",
      "Epoch 00039: val_loss improved from 0.29575 to 0.29557, saving model to known_classifier_nn.h5\n",
      "Epoch 40/10000\n",
      " - 3s - loss: 0.2917 - acc: 0.9079 - val_loss: 0.2984 - val_acc: 0.9000\n",
      "\n",
      "Epoch 00040: val_loss did not improve from 0.29557\n",
      "Epoch 41/10000\n",
      " - 3s - loss: 0.2923 - acc: 0.9076 - val_loss: 0.2962 - val_acc: 0.9035\n",
      "\n",
      "Epoch 00041: val_loss did not improve from 0.29557\n",
      "Epoch 42/10000\n",
      " - 3s - loss: 0.2930 - acc: 0.9068 - val_loss: 0.2944 - val_acc: 0.9050\n",
      "\n",
      "Epoch 00042: val_loss improved from 0.29557 to 0.29444, saving model to known_classifier_nn.h5\n",
      "Epoch 43/10000\n",
      " - 3s - loss: 0.2911 - acc: 0.9076 - val_loss: 0.2939 - val_acc: 0.9060\n",
      "\n",
      "Epoch 00043: val_loss improved from 0.29444 to 0.29392, saving model to known_classifier_nn.h5\n",
      "Epoch 44/10000\n",
      " - 3s - loss: 0.2927 - acc: 0.9073 - val_loss: 0.2960 - val_acc: 0.9032\n",
      "\n",
      "Epoch 00044: val_loss did not improve from 0.29392\n",
      "Epoch 45/10000\n",
      " - 3s - loss: 0.2919 - acc: 0.9068 - val_loss: 0.2954 - val_acc: 0.9012\n",
      "\n",
      "Epoch 00045: val_loss did not improve from 0.29392\n",
      "Epoch 46/10000\n",
      " - 3s - loss: 0.2933 - acc: 0.9083 - val_loss: 0.2928 - val_acc: 0.9052\n",
      "\n",
      "Epoch 00046: val_loss improved from 0.29392 to 0.29280, saving model to known_classifier_nn.h5\n",
      "Epoch 47/10000\n",
      " - 3s - loss: 0.2918 - acc: 0.9079 - val_loss: 0.2939 - val_acc: 0.9042\n",
      "\n",
      "Epoch 00047: val_loss did not improve from 0.29280\n",
      "Epoch 48/10000\n",
      " - 3s - loss: 0.2917 - acc: 0.9073 - val_loss: 0.2943 - val_acc: 0.9038\n",
      "\n",
      "Epoch 00048: val_loss did not improve from 0.29280\n",
      "Epoch 49/10000\n",
      " - 3s - loss: 0.2910 - acc: 0.9073 - val_loss: 0.2935 - val_acc: 0.9040\n",
      "\n",
      "Epoch 00049: val_loss did not improve from 0.29280\n",
      "Epoch 50/10000\n",
      " - 3s - loss: 0.2907 - acc: 0.9073 - val_loss: 0.2965 - val_acc: 0.9012\n",
      "\n",
      "Epoch 00050: val_loss did not improve from 0.29280\n",
      "Epoch 51/10000\n",
      " - 3s - loss: 0.2917 - acc: 0.9064 - val_loss: 0.2938 - val_acc: 0.9052\n",
      "\n",
      "Epoch 00051: val_loss did not improve from 0.29280\n",
      "Epoch 52/10000\n",
      " - 3s - loss: 0.2910 - acc: 0.9080 - val_loss: 0.2928 - val_acc: 0.9045\n",
      "\n",
      "Epoch 00052: val_loss improved from 0.29280 to 0.29276, saving model to known_classifier_nn.h5\n",
      "Epoch 53/10000\n",
      " - 3s - loss: 0.2905 - acc: 0.9075 - val_loss: 0.2924 - val_acc: 0.9050\n",
      "\n",
      "Epoch 00053: val_loss improved from 0.29276 to 0.29235, saving model to known_classifier_nn.h5\n",
      "Epoch 54/10000\n",
      " - 4s - loss: 0.2902 - acc: 0.9083 - val_loss: 0.2947 - val_acc: 0.9052\n",
      "\n",
      "Epoch 00054: val_loss did not improve from 0.29235\n",
      "Epoch 55/10000\n",
      " - 3s - loss: 0.2902 - acc: 0.9077 - val_loss: 0.2939 - val_acc: 0.9062\n",
      "\n",
      "Epoch 00055: val_loss did not improve from 0.29235\n",
      "Epoch 56/10000\n",
      " - 3s - loss: 0.2893 - acc: 0.9080 - val_loss: 0.2935 - val_acc: 0.9035\n",
      "\n",
      "Epoch 00056: val_loss did not improve from 0.29235\n",
      "Epoch 57/10000\n",
      " - 3s - loss: 0.2903 - acc: 0.9084 - val_loss: 0.2919 - val_acc: 0.9060\n",
      "\n",
      "Epoch 00057: val_loss improved from 0.29235 to 0.29191, saving model to known_classifier_nn.h5\n",
      "Epoch 58/10000\n",
      " - 3s - loss: 0.2877 - acc: 0.9084 - val_loss: 0.2942 - val_acc: 0.9022\n",
      "\n",
      "Epoch 00058: val_loss did not improve from 0.29191\n",
      "Epoch 59/10000\n",
      " - 3s - loss: 0.2891 - acc: 0.9087 - val_loss: 0.2925 - val_acc: 0.9065\n",
      "\n",
      "Epoch 00059: val_loss did not improve from 0.29191\n",
      "Epoch 60/10000\n",
      " - 3s - loss: 0.2897 - acc: 0.9083 - val_loss: 0.2916 - val_acc: 0.9048\n",
      "\n",
      "Epoch 00060: val_loss improved from 0.29191 to 0.29156, saving model to known_classifier_nn.h5\n",
      "Epoch 61/10000\n",
      " - 3s - loss: 0.2873 - acc: 0.9084 - val_loss: 0.2929 - val_acc: 0.9067\n",
      "\n",
      "Epoch 00061: val_loss did not improve from 0.29156\n",
      "Epoch 62/10000\n",
      " - 3s - loss: 0.2876 - acc: 0.9088 - val_loss: 0.2914 - val_acc: 0.9065\n",
      "\n",
      "Epoch 00062: val_loss improved from 0.29156 to 0.29143, saving model to known_classifier_nn.h5\n",
      "Epoch 63/10000\n",
      " - 3s - loss: 0.2892 - acc: 0.9084 - val_loss: 0.2921 - val_acc: 0.9030\n",
      "\n",
      "Epoch 00063: val_loss did not improve from 0.29143\n",
      "Epoch 64/10000\n",
      " - 3s - loss: 0.2870 - acc: 0.9088 - val_loss: 0.2922 - val_acc: 0.9055\n",
      "\n",
      "Epoch 00064: val_loss did not improve from 0.29143\n",
      "Epoch 65/10000\n",
      " - 3s - loss: 0.2878 - acc: 0.9094 - val_loss: 0.2903 - val_acc: 0.9058\n",
      "\n",
      "Epoch 00065: val_loss improved from 0.29143 to 0.29034, saving model to known_classifier_nn.h5\n",
      "Epoch 66/10000\n",
      " - 3s - loss: 0.2863 - acc: 0.9085 - val_loss: 0.2909 - val_acc: 0.9058\n",
      "\n",
      "Epoch 00066: val_loss did not improve from 0.29034\n",
      "Epoch 67/10000\n",
      " - 3s - loss: 0.2895 - acc: 0.9067 - val_loss: 0.2912 - val_acc: 0.9073\n",
      "\n",
      "Epoch 00067: val_loss did not improve from 0.29034\n",
      "Epoch 68/10000\n",
      " - 3s - loss: 0.2875 - acc: 0.9089 - val_loss: 0.2919 - val_acc: 0.9050\n",
      "\n",
      "Epoch 00068: val_loss did not improve from 0.29034\n",
      "Epoch 69/10000\n",
      " - 3s - loss: 0.2874 - acc: 0.9089 - val_loss: 0.2931 - val_acc: 0.9035\n",
      "\n",
      "Epoch 00069: val_loss did not improve from 0.29034\n",
      "Epoch 70/10000\n",
      " - 3s - loss: 0.2866 - acc: 0.9088 - val_loss: 0.2920 - val_acc: 0.9052\n",
      "\n",
      "Epoch 00070: val_loss did not improve from 0.29034\n",
      "Epoch 71/10000\n",
      " - 3s - loss: 0.2873 - acc: 0.9098 - val_loss: 0.2912 - val_acc: 0.9062\n",
      "\n",
      "Epoch 00071: val_loss did not improve from 0.29034\n",
      "Epoch 72/10000\n",
      " - 3s - loss: 0.2865 - acc: 0.9086 - val_loss: 0.2919 - val_acc: 0.9052\n",
      "\n",
      "Epoch 00072: val_loss did not improve from 0.29034\n",
      "Epoch 73/10000\n",
      " - 3s - loss: 0.2880 - acc: 0.9089 - val_loss: 0.2899 - val_acc: 0.9062\n",
      "\n",
      "Epoch 00073: val_loss improved from 0.29034 to 0.28989, saving model to known_classifier_nn.h5\n",
      "Epoch 74/10000\n",
      " - 3s - loss: 0.2884 - acc: 0.9094 - val_loss: 0.2901 - val_acc: 0.9062\n",
      "\n",
      "Epoch 00074: val_loss did not improve from 0.28989\n",
      "Epoch 75/10000\n",
      " - 3s - loss: 0.2871 - acc: 0.9078 - val_loss: 0.2899 - val_acc: 0.9067\n",
      "\n",
      "Epoch 00075: val_loss did not improve from 0.28989\n",
      "Epoch 76/10000\n",
      " - 3s - loss: 0.2867 - acc: 0.9099 - val_loss: 0.2903 - val_acc: 0.9052\n",
      "\n",
      "Epoch 00076: val_loss did not improve from 0.28989\n",
      "Epoch 77/10000\n",
      " - 4s - loss: 0.2840 - acc: 0.9099 - val_loss: 0.2875 - val_acc: 0.9085\n",
      "\n",
      "Epoch 00077: val_loss improved from 0.28989 to 0.28749, saving model to known_classifier_nn.h5\n",
      "Epoch 78/10000\n",
      " - 4s - loss: 0.2861 - acc: 0.9096 - val_loss: 0.2904 - val_acc: 0.9050\n",
      "\n",
      "Epoch 00078: val_loss did not improve from 0.28749\n",
      "Epoch 79/10000\n",
      " - 5s - loss: 0.2888 - acc: 0.9089 - val_loss: 0.2912 - val_acc: 0.9073\n",
      "\n",
      "Epoch 00079: val_loss did not improve from 0.28749\n",
      "Epoch 80/10000\n",
      " - 4s - loss: 0.2872 - acc: 0.9091 - val_loss: 0.2905 - val_acc: 0.9058\n",
      "\n",
      "Epoch 00080: val_loss did not improve from 0.28749\n",
      "Epoch 81/10000\n",
      " - 4s - loss: 0.2847 - acc: 0.9094 - val_loss: 0.2882 - val_acc: 0.9067\n",
      "\n",
      "Epoch 00081: val_loss did not improve from 0.28749\n",
      "Epoch 82/10000\n",
      " - 4s - loss: 0.2864 - acc: 0.9087 - val_loss: 0.2877 - val_acc: 0.9052\n",
      "\n",
      "Epoch 00082: val_loss did not improve from 0.28749\n",
      "Epoch 83/10000\n",
      " - 4s - loss: 0.2853 - acc: 0.9087 - val_loss: 0.2885 - val_acc: 0.9060\n",
      "\n",
      "Epoch 00083: val_loss did not improve from 0.28749\n",
      "Epoch 84/10000\n",
      " - 4s - loss: 0.2854 - acc: 0.9091 - val_loss: 0.2870 - val_acc: 0.9070\n",
      "\n",
      "Epoch 00084: val_loss improved from 0.28749 to 0.28705, saving model to known_classifier_nn.h5\n",
      "Epoch 85/10000\n",
      " - 3s - loss: 0.2847 - acc: 0.9083 - val_loss: 0.2885 - val_acc: 0.9070\n",
      "\n",
      "Epoch 00085: val_loss did not improve from 0.28705\n",
      "Epoch 86/10000\n",
      " - 3s - loss: 0.2839 - acc: 0.9097 - val_loss: 0.2900 - val_acc: 0.9042\n",
      "\n",
      "Epoch 00086: val_loss did not improve from 0.28705\n",
      "Epoch 87/10000\n",
      " - 3s - loss: 0.2856 - acc: 0.9095 - val_loss: 0.2895 - val_acc: 0.9067\n",
      "\n",
      "Epoch 00087: val_loss did not improve from 0.28705\n",
      "Epoch 88/10000\n",
      " - 4s - loss: 0.2866 - acc: 0.9087 - val_loss: 0.2933 - val_acc: 0.9035\n",
      "\n",
      "Epoch 00088: val_loss did not improve from 0.28705\n",
      "Epoch 89/10000\n",
      " - 3s - loss: 0.2850 - acc: 0.9101 - val_loss: 0.2886 - val_acc: 0.9058\n",
      "\n",
      "Epoch 00089: val_loss did not improve from 0.28705\n",
      "Epoch 90/10000\n",
      " - 4s - loss: 0.2850 - acc: 0.9094 - val_loss: 0.2883 - val_acc: 0.9080\n",
      "\n",
      "Epoch 00090: val_loss did not improve from 0.28705\n",
      "Epoch 91/10000\n",
      " - 3s - loss: 0.2845 - acc: 0.9090 - val_loss: 0.2869 - val_acc: 0.9075\n",
      "\n",
      "Epoch 00091: val_loss improved from 0.28705 to 0.28687, saving model to known_classifier_nn.h5\n",
      "Epoch 92/10000\n",
      " - 3s - loss: 0.2816 - acc: 0.9104 - val_loss: 0.2864 - val_acc: 0.9087\n",
      "\n",
      "Epoch 00092: val_loss improved from 0.28687 to 0.28645, saving model to known_classifier_nn.h5\n",
      "Epoch 93/10000\n",
      " - 3s - loss: 0.2847 - acc: 0.9105 - val_loss: 0.2889 - val_acc: 0.9075\n",
      "\n",
      "Epoch 00093: val_loss did not improve from 0.28645\n",
      "Epoch 94/10000\n",
      " - 3s - loss: 0.2853 - acc: 0.9095 - val_loss: 0.2869 - val_acc: 0.9073\n",
      "\n",
      "Epoch 00094: val_loss did not improve from 0.28645\n",
      "Epoch 95/10000\n",
      " - 4s - loss: 0.2859 - acc: 0.9105 - val_loss: 0.2902 - val_acc: 0.8998\n",
      "\n",
      "Epoch 00095: val_loss did not improve from 0.28645\n",
      "Epoch 96/10000\n",
      " - 3s - loss: 0.2860 - acc: 0.9090 - val_loss: 0.2877 - val_acc: 0.9093\n",
      "\n",
      "Epoch 00096: val_loss did not improve from 0.28645\n",
      "Epoch 97/10000\n",
      " - 3s - loss: 0.2835 - acc: 0.9087 - val_loss: 0.2869 - val_acc: 0.9100\n",
      "\n",
      "Epoch 00097: val_loss did not improve from 0.28645\n",
      "Epoch 98/10000\n",
      " - 3s - loss: 0.2827 - acc: 0.9098 - val_loss: 0.2874 - val_acc: 0.9073\n",
      "\n",
      "Epoch 00098: val_loss did not improve from 0.28645\n",
      "Epoch 99/10000\n",
      " - 3s - loss: 0.2831 - acc: 0.9103 - val_loss: 0.2879 - val_acc: 0.9077\n",
      "\n",
      "Epoch 00099: val_loss did not improve from 0.28645\n",
      "Epoch 100/10000\n",
      " - 4s - loss: 0.2818 - acc: 0.9102 - val_loss: 0.2863 - val_acc: 0.9073\n",
      "\n",
      "Epoch 00100: val_loss improved from 0.28645 to 0.28626, saving model to known_classifier_nn.h5\n",
      "Epoch 101/10000\n",
      " - 3s - loss: 0.2843 - acc: 0.9099 - val_loss: 0.2958 - val_acc: 0.9000\n",
      "\n",
      "Epoch 00101: val_loss did not improve from 0.28626\n",
      "Epoch 102/10000\n",
      " - 3s - loss: 0.2853 - acc: 0.9089 - val_loss: 0.2874 - val_acc: 0.9062\n",
      "\n",
      "Epoch 00102: val_loss did not improve from 0.28626\n",
      "Epoch 103/10000\n",
      " - 3s - loss: 0.2847 - acc: 0.9093 - val_loss: 0.2861 - val_acc: 0.9065\n",
      "\n",
      "Epoch 00103: val_loss improved from 0.28626 to 0.28612, saving model to known_classifier_nn.h5\n",
      "Epoch 104/10000\n",
      " - 3s - loss: 0.2833 - acc: 0.9091 - val_loss: 0.2864 - val_acc: 0.9093\n",
      "\n",
      "Epoch 00104: val_loss did not improve from 0.28612\n",
      "Epoch 105/10000\n",
      " - 3s - loss: 0.2829 - acc: 0.9098 - val_loss: 0.2862 - val_acc: 0.9075\n",
      "\n",
      "Epoch 00105: val_loss did not improve from 0.28612\n",
      "Epoch 106/10000\n",
      " - 4s - loss: 0.2838 - acc: 0.9101 - val_loss: 0.2874 - val_acc: 0.9070\n",
      "\n",
      "Epoch 00106: val_loss did not improve from 0.28612\n",
      "Epoch 107/10000\n",
      " - 4s - loss: 0.2825 - acc: 0.9098 - val_loss: 0.2877 - val_acc: 0.9080\n",
      "\n",
      "Epoch 00107: val_loss did not improve from 0.28612\n",
      "Epoch 108/10000\n",
      " - 3s - loss: 0.2836 - acc: 0.9106 - val_loss: 0.2845 - val_acc: 0.9100\n",
      "\n",
      "Epoch 00108: val_loss improved from 0.28612 to 0.28451, saving model to known_classifier_nn.h5\n",
      "Epoch 109/10000\n",
      " - 3s - loss: 0.2844 - acc: 0.9102 - val_loss: 0.2874 - val_acc: 0.9083\n",
      "\n",
      "Epoch 00109: val_loss did not improve from 0.28451\n",
      "Epoch 110/10000\n",
      " - 3s - loss: 0.2825 - acc: 0.9106 - val_loss: 0.2863 - val_acc: 0.9095\n",
      "\n",
      "Epoch 00110: val_loss did not improve from 0.28451\n",
      "Epoch 111/10000\n",
      " - 3s - loss: 0.2835 - acc: 0.9084 - val_loss: 0.2873 - val_acc: 0.9083\n",
      "\n",
      "Epoch 00111: val_loss did not improve from 0.28451\n",
      "Epoch 112/10000\n",
      " - 3s - loss: 0.2814 - acc: 0.9109 - val_loss: 0.2865 - val_acc: 0.9093\n",
      "\n",
      "Epoch 00112: val_loss did not improve from 0.28451\n",
      "Epoch 113/10000\n",
      " - 3s - loss: 0.2819 - acc: 0.9109 - val_loss: 0.2909 - val_acc: 0.9050\n",
      "\n",
      "Epoch 00113: val_loss did not improve from 0.28451\n",
      "Epoch 114/10000\n",
      " - 3s - loss: 0.2837 - acc: 0.9097 - val_loss: 0.2885 - val_acc: 0.9052\n",
      "\n",
      "Epoch 00114: val_loss did not improve from 0.28451\n",
      "Epoch 115/10000\n",
      " - 3s - loss: 0.2820 - acc: 0.9103 - val_loss: 0.2879 - val_acc: 0.9085\n",
      "\n",
      "Epoch 00115: val_loss did not improve from 0.28451\n",
      "Epoch 116/10000\n",
      " - 3s - loss: 0.2824 - acc: 0.9105 - val_loss: 0.2922 - val_acc: 0.9045\n",
      "\n",
      "Epoch 00116: val_loss did not improve from 0.28451\n",
      "Epoch 117/10000\n",
      " - 3s - loss: 0.2834 - acc: 0.9095 - val_loss: 0.2841 - val_acc: 0.9090\n",
      "\n",
      "Epoch 00117: val_loss improved from 0.28451 to 0.28412, saving model to known_classifier_nn.h5\n",
      "Epoch 118/10000\n",
      " - 4s - loss: 0.2817 - acc: 0.9101 - val_loss: 0.2850 - val_acc: 0.9085\n",
      "\n",
      "Epoch 00118: val_loss did not improve from 0.28412\n",
      "Epoch 119/10000\n",
      " - 4s - loss: 0.2810 - acc: 0.9105 - val_loss: 0.2855 - val_acc: 0.9097\n",
      "\n",
      "Epoch 00119: val_loss did not improve from 0.28412\n",
      "Epoch 120/10000\n",
      " - 3s - loss: 0.2823 - acc: 0.9096 - val_loss: 0.2871 - val_acc: 0.9062\n",
      "\n",
      "Epoch 00120: val_loss did not improve from 0.28412\n",
      "Epoch 121/10000\n",
      " - 3s - loss: 0.2800 - acc: 0.9115 - val_loss: 0.2883 - val_acc: 0.9067\n",
      "\n",
      "Epoch 00121: val_loss did not improve from 0.28412\n",
      "Epoch 122/10000\n",
      " - 4s - loss: 0.2814 - acc: 0.9102 - val_loss: 0.2862 - val_acc: 0.9070\n",
      "\n",
      "Epoch 00122: val_loss did not improve from 0.28412\n",
      "Epoch 123/10000\n",
      " - 4s - loss: 0.2796 - acc: 0.9118 - val_loss: 0.2863 - val_acc: 0.9093\n",
      "\n",
      "Epoch 00123: val_loss did not improve from 0.28412\n",
      "Epoch 124/10000\n",
      " - 3s - loss: 0.2819 - acc: 0.9100 - val_loss: 0.2870 - val_acc: 0.9100\n",
      "\n",
      "Epoch 00124: val_loss did not improve from 0.28412\n",
      "Epoch 125/10000\n",
      " - 4s - loss: 0.2824 - acc: 0.9101 - val_loss: 0.2850 - val_acc: 0.9107\n",
      "\n",
      "Epoch 00125: val_loss did not improve from 0.28412\n",
      "Epoch 126/10000\n",
      " - 3s - loss: 0.2800 - acc: 0.9113 - val_loss: 0.2859 - val_acc: 0.9075\n",
      "\n",
      "Epoch 00126: val_loss did not improve from 0.28412\n",
      "Epoch 127/10000\n",
      " - 3s - loss: 0.2804 - acc: 0.9109 - val_loss: 0.2904 - val_acc: 0.9067\n",
      "\n",
      "Epoch 00127: val_loss did not improve from 0.28412\n",
      "Epoch 128/10000\n",
      " - 3s - loss: 0.2821 - acc: 0.9096 - val_loss: 0.2859 - val_acc: 0.9095\n",
      "\n",
      "Epoch 00128: val_loss did not improve from 0.28412\n",
      "Epoch 129/10000\n",
      " - 2s - loss: 0.2800 - acc: 0.9111 - val_loss: 0.2857 - val_acc: 0.9080\n",
      "\n",
      "Epoch 00129: val_loss did not improve from 0.28412\n",
      "Epoch 130/10000\n",
      " - 3s - loss: 0.2822 - acc: 0.9107 - val_loss: 0.2878 - val_acc: 0.9048\n",
      "\n",
      "Epoch 00130: val_loss did not improve from 0.28412\n",
      "Epoch 131/10000\n",
      " - 3s - loss: 0.2822 - acc: 0.9107 - val_loss: 0.2865 - val_acc: 0.9070\n",
      "\n",
      "Epoch 00131: val_loss did not improve from 0.28412\n",
      "Epoch 132/10000\n",
      " - 3s - loss: 0.2815 - acc: 0.9099 - val_loss: 0.2847 - val_acc: 0.9100\n",
      "\n",
      "Epoch 00132: val_loss did not improve from 0.28412\n",
      "Epoch 133/10000\n",
      " - 3s - loss: 0.2815 - acc: 0.9099 - val_loss: 0.2866 - val_acc: 0.9085\n",
      "\n",
      "Epoch 00133: val_loss did not improve from 0.28412\n",
      "Epoch 134/10000\n",
      " - 3s - loss: 0.2801 - acc: 0.9116 - val_loss: 0.2846 - val_acc: 0.9087\n",
      "\n",
      "Epoch 00134: val_loss did not improve from 0.28412\n",
      "Epoch 135/10000\n",
      " - 3s - loss: 0.2815 - acc: 0.9109 - val_loss: 0.2832 - val_acc: 0.9107\n",
      "\n",
      "Epoch 00135: val_loss improved from 0.28412 to 0.28322, saving model to known_classifier_nn.h5\n",
      "Epoch 136/10000\n",
      " - 3s - loss: 0.2812 - acc: 0.9116 - val_loss: 0.2855 - val_acc: 0.9077\n",
      "\n",
      "Epoch 00136: val_loss did not improve from 0.28322\n",
      "Epoch 137/10000\n",
      " - 3s - loss: 0.2797 - acc: 0.9115 - val_loss: 0.2832 - val_acc: 0.9097\n",
      "\n",
      "Epoch 00137: val_loss did not improve from 0.28322\n",
      "Epoch 138/10000\n",
      " - 3s - loss: 0.2800 - acc: 0.9113 - val_loss: 0.2853 - val_acc: 0.9067\n",
      "\n",
      "Epoch 00138: val_loss did not improve from 0.28322\n",
      "Epoch 139/10000\n",
      " - 3s - loss: 0.2801 - acc: 0.9109 - val_loss: 0.2865 - val_acc: 0.9050\n",
      "\n",
      "Epoch 00139: val_loss did not improve from 0.28322\n",
      "Epoch 140/10000\n",
      " - 2s - loss: 0.2801 - acc: 0.9105 - val_loss: 0.2842 - val_acc: 0.9107\n",
      "\n",
      "Epoch 00140: val_loss did not improve from 0.28322\n",
      "Epoch 141/10000\n",
      " - 3s - loss: 0.2793 - acc: 0.9117 - val_loss: 0.2845 - val_acc: 0.9095\n",
      "\n",
      "Epoch 00141: val_loss did not improve from 0.28322\n",
      "Epoch 142/10000\n",
      " - 3s - loss: 0.2780 - acc: 0.9114 - val_loss: 0.2857 - val_acc: 0.9052\n",
      "\n",
      "Epoch 00142: val_loss did not improve from 0.28322\n",
      "Epoch 143/10000\n",
      " - 3s - loss: 0.2777 - acc: 0.9121 - val_loss: 0.2860 - val_acc: 0.9085\n",
      "\n",
      "Epoch 00143: val_loss did not improve from 0.28322\n",
      "Epoch 144/10000\n",
      " - 3s - loss: 0.2816 - acc: 0.9107 - val_loss: 0.2862 - val_acc: 0.9093\n",
      "\n",
      "Epoch 00144: val_loss did not improve from 0.28322\n",
      "Epoch 145/10000\n",
      " - 3s - loss: 0.2793 - acc: 0.9107 - val_loss: 0.2866 - val_acc: 0.9065\n",
      "\n",
      "Epoch 00145: val_loss did not improve from 0.28322\n",
      "Epoch 146/10000\n",
      " - 3s - loss: 0.2805 - acc: 0.9117 - val_loss: 0.2816 - val_acc: 0.9100\n",
      "\n",
      "Epoch 00146: val_loss improved from 0.28322 to 0.28162, saving model to known_classifier_nn.h5\n",
      "Epoch 147/10000\n",
      " - 3s - loss: 0.2799 - acc: 0.9104 - val_loss: 0.2828 - val_acc: 0.9103\n",
      "\n",
      "Epoch 00147: val_loss did not improve from 0.28162\n",
      "Epoch 148/10000\n",
      " - 3s - loss: 0.2802 - acc: 0.9110 - val_loss: 0.2847 - val_acc: 0.9073\n",
      "\n",
      "Epoch 00148: val_loss did not improve from 0.28162\n",
      "Epoch 149/10000\n",
      " - 3s - loss: 0.2786 - acc: 0.9111 - val_loss: 0.2828 - val_acc: 0.9107\n",
      "\n",
      "Epoch 00149: val_loss did not improve from 0.28162\n",
      "Epoch 150/10000\n",
      " - 3s - loss: 0.2810 - acc: 0.9099 - val_loss: 0.2824 - val_acc: 0.9115\n",
      "\n",
      "Epoch 00150: val_loss did not improve from 0.28162\n",
      "Epoch 151/10000\n",
      " - 3s - loss: 0.2792 - acc: 0.9128 - val_loss: 0.2842 - val_acc: 0.9097\n",
      "\n",
      "Epoch 00151: val_loss did not improve from 0.28162\n",
      "Epoch 152/10000\n",
      " - 2s - loss: 0.2784 - acc: 0.9116 - val_loss: 0.2841 - val_acc: 0.9107\n",
      "\n",
      "Epoch 00152: val_loss did not improve from 0.28162\n",
      "Epoch 153/10000\n",
      " - 3s - loss: 0.2806 - acc: 0.9113 - val_loss: 0.2819 - val_acc: 0.9095\n",
      "\n",
      "Epoch 00153: val_loss did not improve from 0.28162\n",
      "Epoch 154/10000\n",
      " - 3s - loss: 0.2784 - acc: 0.9112 - val_loss: 0.2868 - val_acc: 0.9070\n",
      "\n",
      "Epoch 00154: val_loss did not improve from 0.28162\n",
      "Epoch 155/10000\n",
      " - 2s - loss: 0.2796 - acc: 0.9116 - val_loss: 0.2825 - val_acc: 0.9100\n",
      "\n",
      "Epoch 00155: val_loss did not improve from 0.28162\n",
      "Epoch 156/10000\n",
      " - 3s - loss: 0.2785 - acc: 0.9120 - val_loss: 0.2840 - val_acc: 0.9095\n",
      "\n",
      "Epoch 00156: val_loss did not improve from 0.28162\n",
      "Epoch 157/10000\n",
      " - 2s - loss: 0.2789 - acc: 0.9114 - val_loss: 0.2826 - val_acc: 0.9100\n",
      "\n",
      "Epoch 00157: val_loss did not improve from 0.28162\n",
      "Epoch 158/10000\n",
      " - 2s - loss: 0.2795 - acc: 0.9127 - val_loss: 0.2830 - val_acc: 0.9105\n",
      "\n",
      "Epoch 00158: val_loss did not improve from 0.28162\n",
      "Epoch 159/10000\n",
      " - 3s - loss: 0.2783 - acc: 0.9109 - val_loss: 0.2821 - val_acc: 0.9110\n",
      "\n",
      "Epoch 00159: val_loss did not improve from 0.28162\n",
      "Epoch 160/10000\n",
      " - 3s - loss: 0.2799 - acc: 0.9115 - val_loss: 0.2831 - val_acc: 0.9107\n",
      "\n",
      "Epoch 00160: val_loss did not improve from 0.28162\n",
      "Epoch 161/10000\n",
      " - 3s - loss: 0.2775 - acc: 0.9114 - val_loss: 0.2844 - val_acc: 0.9085\n",
      "\n",
      "Epoch 00161: val_loss did not improve from 0.28162\n",
      "Epoch 162/10000\n",
      " - 3s - loss: 0.2816 - acc: 0.9106 - val_loss: 0.2833 - val_acc: 0.9100\n",
      "\n",
      "Epoch 00162: val_loss did not improve from 0.28162\n",
      "Epoch 163/10000\n",
      " - 3s - loss: 0.2796 - acc: 0.9108 - val_loss: 0.2822 - val_acc: 0.9097\n",
      "\n",
      "Epoch 00163: val_loss did not improve from 0.28162\n",
      "Epoch 164/10000\n",
      " - 3s - loss: 0.2774 - acc: 0.9123 - val_loss: 0.2832 - val_acc: 0.9100\n",
      "\n",
      "Epoch 00164: val_loss did not improve from 0.28162\n",
      "Epoch 165/10000\n",
      " - 3s - loss: 0.2786 - acc: 0.9118 - val_loss: 0.2886 - val_acc: 0.9070\n",
      "\n",
      "Epoch 00165: val_loss did not improve from 0.28162\n",
      "Epoch 166/10000\n",
      " - 3s - loss: 0.2784 - acc: 0.9111 - val_loss: 0.2847 - val_acc: 0.9083\n",
      "\n",
      "Epoch 00166: val_loss did not improve from 0.28162\n",
      "Epoch 167/10000\n",
      " - 2s - loss: 0.2790 - acc: 0.9113 - val_loss: 0.2835 - val_acc: 0.9103\n",
      "\n",
      "Epoch 00167: val_loss did not improve from 0.28162\n",
      "Epoch 168/10000\n",
      " - 3s - loss: 0.2779 - acc: 0.9119 - val_loss: 0.2836 - val_acc: 0.9090\n",
      "\n",
      "Epoch 00168: val_loss did not improve from 0.28162\n",
      "Epoch 169/10000\n",
      " - 3s - loss: 0.2786 - acc: 0.9114 - val_loss: 0.2840 - val_acc: 0.9105\n",
      "\n",
      "Epoch 00169: val_loss did not improve from 0.28162\n",
      "Epoch 170/10000\n",
      " - 3s - loss: 0.2784 - acc: 0.9116 - val_loss: 0.2831 - val_acc: 0.9103\n",
      "\n",
      "Epoch 00170: val_loss did not improve from 0.28162\n",
      "Epoch 171/10000\n",
      " - 3s - loss: 0.2780 - acc: 0.9128 - val_loss: 0.2849 - val_acc: 0.9087\n",
      "\n",
      "Epoch 00171: val_loss did not improve from 0.28162\n",
      "Epoch 172/10000\n",
      " - 3s - loss: 0.2793 - acc: 0.9126 - val_loss: 0.2837 - val_acc: 0.9113\n",
      "\n",
      "Epoch 00172: val_loss did not improve from 0.28162\n",
      "Epoch 173/10000\n",
      " - 3s - loss: 0.2768 - acc: 0.9117 - val_loss: 0.2822 - val_acc: 0.9110\n",
      "\n",
      "Epoch 00173: val_loss did not improve from 0.28162\n",
      "Epoch 174/10000\n",
      " - 4s - loss: 0.2790 - acc: 0.9121 - val_loss: 0.2838 - val_acc: 0.9130\n",
      "\n",
      "Epoch 00174: val_loss did not improve from 0.28162\n",
      "Epoch 175/10000\n",
      " - 3s - loss: 0.2794 - acc: 0.9105 - val_loss: 0.2845 - val_acc: 0.9097\n",
      "\n",
      "Epoch 00175: val_loss did not improve from 0.28162\n",
      "Epoch 176/10000\n",
      " - 3s - loss: 0.2788 - acc: 0.9117 - val_loss: 0.2848 - val_acc: 0.9080\n",
      "\n",
      "Epoch 00176: val_loss did not improve from 0.28162\n",
      "Epoch 177/10000\n",
      " - 3s - loss: 0.2777 - acc: 0.9128 - val_loss: 0.2855 - val_acc: 0.9073\n",
      "\n",
      "Epoch 00177: val_loss did not improve from 0.28162\n",
      "Epoch 178/10000\n",
      " - 3s - loss: 0.2794 - acc: 0.9122 - val_loss: 0.2824 - val_acc: 0.9100\n",
      "\n",
      "Epoch 00178: val_loss did not improve from 0.28162\n",
      "Epoch 179/10000\n",
      " - 3s - loss: 0.2782 - acc: 0.9120 - val_loss: 0.2831 - val_acc: 0.9100\n",
      "\n",
      "Epoch 00179: val_loss did not improve from 0.28162\n",
      "Epoch 180/10000\n",
      " - 3s - loss: 0.2774 - acc: 0.9120 - val_loss: 0.2837 - val_acc: 0.9093\n",
      "\n",
      "Epoch 00180: val_loss did not improve from 0.28162\n",
      "Epoch 181/10000\n",
      " - 3s - loss: 0.2782 - acc: 0.9113 - val_loss: 0.2832 - val_acc: 0.9083\n",
      "\n",
      "Epoch 00181: val_loss did not improve from 0.28162\n",
      "Epoch 182/10000\n",
      " - 4s - loss: 0.2793 - acc: 0.9116 - val_loss: 0.2834 - val_acc: 0.9100\n",
      "\n",
      "Epoch 00182: val_loss did not improve from 0.28162\n",
      "Epoch 183/10000\n",
      " - 3s - loss: 0.2776 - acc: 0.9114 - val_loss: 0.2815 - val_acc: 0.9110\n",
      "\n",
      "Epoch 00183: val_loss improved from 0.28162 to 0.28155, saving model to known_classifier_nn.h5\n",
      "Epoch 184/10000\n",
      " - 5s - loss: 0.2782 - acc: 0.9111 - val_loss: 0.2822 - val_acc: 0.9110\n",
      "\n",
      "Epoch 00184: val_loss did not improve from 0.28155\n",
      "Epoch 185/10000\n",
      " - 3s - loss: 0.2779 - acc: 0.9119 - val_loss: 0.2825 - val_acc: 0.9115\n",
      "\n",
      "Epoch 00185: val_loss did not improve from 0.28155\n",
      "Epoch 186/10000\n",
      " - 3s - loss: 0.2775 - acc: 0.9124 - val_loss: 0.2843 - val_acc: 0.9083\n",
      "\n",
      "Epoch 00186: val_loss did not improve from 0.28155\n",
      "Epoch 187/10000\n",
      " - 3s - loss: 0.2750 - acc: 0.9134 - val_loss: 0.2838 - val_acc: 0.9107\n",
      "\n",
      "Epoch 00187: val_loss did not improve from 0.28155\n",
      "Epoch 188/10000\n",
      " - 3s - loss: 0.2790 - acc: 0.9111 - val_loss: 0.2833 - val_acc: 0.9093\n",
      "\n",
      "Epoch 00188: val_loss did not improve from 0.28155\n",
      "Epoch 189/10000\n",
      " - 3s - loss: 0.2758 - acc: 0.9125 - val_loss: 0.2832 - val_acc: 0.9085\n",
      "\n",
      "Epoch 00189: val_loss did not improve from 0.28155\n",
      "Epoch 190/10000\n",
      " - 3s - loss: 0.2780 - acc: 0.9133 - val_loss: 0.2817 - val_acc: 0.9105\n",
      "\n",
      "Epoch 00190: val_loss did not improve from 0.28155\n",
      "Epoch 191/10000\n",
      " - 3s - loss: 0.2775 - acc: 0.9117 - val_loss: 0.2821 - val_acc: 0.9095\n",
      "\n",
      "Epoch 00191: val_loss did not improve from 0.28155\n",
      "Epoch 192/10000\n",
      " - 3s - loss: 0.2793 - acc: 0.9113 - val_loss: 0.2813 - val_acc: 0.9123\n",
      "\n",
      "Epoch 00192: val_loss improved from 0.28155 to 0.28132, saving model to known_classifier_nn.h5\n",
      "Epoch 193/10000\n",
      " - 3s - loss: 0.2758 - acc: 0.9127 - val_loss: 0.2820 - val_acc: 0.9093\n",
      "\n",
      "Epoch 00193: val_loss did not improve from 0.28132\n",
      "Epoch 194/10000\n",
      " - 3s - loss: 0.2766 - acc: 0.9117 - val_loss: 0.2829 - val_acc: 0.9093\n",
      "\n",
      "Epoch 00194: val_loss did not improve from 0.28132\n",
      "Epoch 195/10000\n",
      " - 3s - loss: 0.2780 - acc: 0.9123 - val_loss: 0.2847 - val_acc: 0.9100\n",
      "\n",
      "Epoch 00195: val_loss did not improve from 0.28132\n",
      "Epoch 196/10000\n",
      " - 3s - loss: 0.2778 - acc: 0.9109 - val_loss: 0.2830 - val_acc: 0.9095\n",
      "\n",
      "Epoch 00196: val_loss did not improve from 0.28132\n",
      "Epoch 197/10000\n",
      " - 3s - loss: 0.2771 - acc: 0.9119 - val_loss: 0.2822 - val_acc: 0.9110\n",
      "\n",
      "Epoch 00197: val_loss did not improve from 0.28132\n",
      "Epoch 198/10000\n",
      " - 3s - loss: 0.2768 - acc: 0.9129 - val_loss: 0.2809 - val_acc: 0.9105\n",
      "\n",
      "Epoch 00198: val_loss improved from 0.28132 to 0.28086, saving model to known_classifier_nn.h5\n",
      "Epoch 199/10000\n",
      " - 3s - loss: 0.2798 - acc: 0.9120 - val_loss: 0.2846 - val_acc: 0.9097\n",
      "\n",
      "Epoch 00199: val_loss did not improve from 0.28086\n",
      "Epoch 200/10000\n",
      " - 3s - loss: 0.2784 - acc: 0.9124 - val_loss: 0.2831 - val_acc: 0.9107\n",
      "\n",
      "Epoch 00200: val_loss did not improve from 0.28086\n",
      "Epoch 201/10000\n",
      " - 3s - loss: 0.2755 - acc: 0.9140 - val_loss: 0.2813 - val_acc: 0.9117\n",
      "\n",
      "Epoch 00201: val_loss did not improve from 0.28086\n",
      "Epoch 202/10000\n",
      " - 3s - loss: 0.2779 - acc: 0.9116 - val_loss: 0.2822 - val_acc: 0.9105\n",
      "\n",
      "Epoch 00202: val_loss did not improve from 0.28086\n",
      "Epoch 203/10000\n",
      " - 3s - loss: 0.2769 - acc: 0.9134 - val_loss: 0.2823 - val_acc: 0.9107\n",
      "\n",
      "Epoch 00203: val_loss did not improve from 0.28086\n",
      "Epoch 204/10000\n",
      " - 3s - loss: 0.2775 - acc: 0.9131 - val_loss: 0.2834 - val_acc: 0.9107\n",
      "\n",
      "Epoch 00204: val_loss did not improve from 0.28086\n",
      "Epoch 205/10000\n",
      " - 3s - loss: 0.2785 - acc: 0.9126 - val_loss: 0.2824 - val_acc: 0.9110\n",
      "\n",
      "Epoch 00205: val_loss did not improve from 0.28086\n",
      "Epoch 206/10000\n",
      " - 3s - loss: 0.2772 - acc: 0.9119 - val_loss: 0.2818 - val_acc: 0.9110\n",
      "\n",
      "Epoch 00206: val_loss did not improve from 0.28086\n",
      "Epoch 207/10000\n",
      " - 3s - loss: 0.2788 - acc: 0.9121 - val_loss: 0.2822 - val_acc: 0.9103\n",
      "\n",
      "Epoch 00207: val_loss did not improve from 0.28086\n",
      "Epoch 208/10000\n",
      " - 3s - loss: 0.2773 - acc: 0.9133 - val_loss: 0.2816 - val_acc: 0.9110\n",
      "\n",
      "Epoch 00208: val_loss did not improve from 0.28086\n",
      "Epoch 00208: early stopping\n"
     ]
    },
    {
     "data": {
      "text/plain": [
       "<keras.callbacks.History at 0x2380df20be0>"
      ]
     },
     "execution_count": 118,
     "metadata": {},
     "output_type": "execute_result"
    }
   ],
   "source": [
    "model_name = 'known_classifier_nn.h5'\n",
    "\n",
    "nn_model = Sequential()\n",
    "\n",
    "nn_model.add(Dense(256, activation='relu', input_shape=tuple(x.shape[1:])))\n",
    "nn_model.add(Dropout(0.5))\n",
    "nn_model.add(Dense(512, activation='relu'))\n",
    "nn_model.add(Dropout(0.5))\n",
    "nn_model.add(Dense(256, activation='relu'))\n",
    "nn_model.add(Dropout(0.5))\n",
    "nn_model.add(Dense(1, activation='sigmoid'))\n",
    "\n",
    "op = optimizers.Adam(lr=0.001)\n",
    "\n",
    "nn_model.compile(optimizer=op, metrics=['accuracy'], loss='binary_crossentropy')\n",
    "\n",
    "save_checkpoint = ModelCheckpoint(model_name, save_best_only=True, verbose=1)\n",
    "early_stop = EarlyStopping(min_delta=0.005, patience=100, verbose=1, mode='min')\n",
    "\n",
    "nn_model.fit(x_train, y_train, epochs=10000, batch_size=128, verbose=2, \n",
    "             class_weight=class_weights, shuffle=True, validation_split=0.2, callbacks=[save_checkpoint, early_stop])"
   ]
  },
  {
   "cell_type": "markdown",
   "metadata": {},
   "source": [
    "Neural Network Model Predictions"
   ]
  },
  {
   "cell_type": "code",
   "execution_count": 119,
   "metadata": {},
   "outputs": [
    {
     "name": "stdout",
     "output_type": "stream",
     "text": [
      "             precision    recall  f1-score   support\n",
      "\n",
      "          0       0.79      0.20      0.32       500\n",
      "          1       0.92      0.99      0.95      4500\n",
      "\n",
      "avg / total       0.91      0.92      0.89      5000\n",
      "\n"
     ]
    }
   ],
   "source": [
    "nn_preds = nn_model.predict(x_test)\n",
    "nn_preds = np.array([1 if x > 0.5 else 0 for x in nn_preds]).astype('int64')\n",
    "print(classification_report(y_test, nn_preds))"
   ]
  },
  {
   "cell_type": "markdown",
   "metadata": {},
   "source": [
    "### Accuracy scores for all 4 models"
   ]
  },
  {
   "cell_type": "code",
   "execution_count": 120,
   "metadata": {},
   "outputs": [
    {
     "name": "stdout",
     "output_type": "stream",
     "text": [
      "Logistic Regression Model F1 Score and AUC: 0.900200, 0.947468, 0.501000\n",
      "Random Forest Model F1 Score and AUC: 0.917000, 0.955004, 0.670333\n",
      "XGBoost Model F1 Score and AUC: 0.936800, 0.965889, 0.707111\n",
      "Neural Network Model F1 Score and AUC: 0.915000, 0.954647, 0.599000\n"
     ]
    }
   ],
   "source": [
    "y_test = np.array(y_test)\n",
    "\n",
    "print('Logistic Regression Model F1 Score and AUC: %f, %f, %f' % (accuracy_score(y_test, log_reg_preds), f1_score(y_test, log_reg_preds), roc_auc_score(y_test, log_reg_preds)))\n",
    "print('Random Forest Model F1 Score and AUC: %f, %f, %f' % (accuracy_score(y_test, rf_preds), f1_score(y_test, rf_preds), roc_auc_score(y_test, rf_preds)))\n",
    "print('XGBoost Model F1 Score and AUC: %f, %f, %f' % (accuracy_score(y_test, xgb_preds), f1_score(y_test, xgb_preds), roc_auc_score(y_test, xgb_preds)))\n",
    "print('Neural Network Model F1 Score and AUC: %f, %f, %f' % (accuracy_score(y_test, nn_preds), f1_score(y_test, nn_preds), roc_auc_score(y_test, nn_preds)))"
   ]
  },
  {
   "cell_type": "markdown",
   "metadata": {},
   "source": [
    "### Predicting on test set using best model"
   ]
  },
  {
   "cell_type": "markdown",
   "metadata": {},
   "source": [
    "Loading submission dataset and filter to 57 features"
   ]
  },
  {
   "cell_type": "code",
   "execution_count": 121,
   "metadata": {},
   "outputs": [],
   "source": [
    "submission_data = pd.read_csv('data/hackathon_IoT_validation_set_based_on_01mar2017_ANONYMIZED.csv')\n",
    "submission_data_filtered = submission_data.filter(items=trimmed_feats_list, axis='columns')"
   ]
  },
  {
   "cell_type": "markdown",
   "metadata": {},
   "source": [
    "Training KNN Model first to obtain distances"
   ]
  },
  {
   "cell_type": "code",
   "execution_count": 22,
   "metadata": {},
   "outputs": [],
   "source": [
    "knn_x, knn_y = filtered_df.iloc[:, :-1], filtered_df.iloc[:, -1]\n",
    "real_knn = KNeighborsClassifier(n_neighbors=10, weights='uniform', algorithm='auto', p=2, n_jobs=-1, leaf_size=20)\n",
    "real_knn.fit(knn_x, knn_y)\n",
    "sub_output = real_knn.kneighbors(submission_data_filtered, n_neighbors=10, return_distance=True)"
   ]
  },
  {
   "cell_type": "markdown",
   "metadata": {},
   "source": [
    "Obtaining engineered features from submission dataset"
   ]
  },
  {
   "cell_type": "code",
   "execution_count": 122,
   "metadata": {
    "collapsed": true
   },
   "outputs": [],
   "source": [
    "sub_distance_df = dist_engineered_df(sub_output)\n",
    "sub_distance_df = sub_distance_df.replace([np.inf, -np.inf, np.nan], 0)"
   ]
  },
  {
   "cell_type": "markdown",
   "metadata": {},
   "source": [
    "Using XGBoost model as it has the highest AUC value amongst the 4 models for novelty prediction"
   ]
  },
  {
   "cell_type": "code",
   "execution_count": 123,
   "metadata": {},
   "outputs": [
    {
     "name": "stderr",
     "output_type": "stream",
     "text": [
      "[Parallel(n_jobs=4)]: Done  42 tasks      | elapsed:    0.0s\n",
      "[Parallel(n_jobs=4)]: Done 192 tasks      | elapsed:    0.0s\n",
      "[Parallel(n_jobs=4)]: Done 442 tasks      | elapsed:    0.0s\n",
      "[Parallel(n_jobs=4)]: Done 792 tasks      | elapsed:    0.1s\n",
      "[Parallel(n_jobs=4)]: Done 1000 out of 1000 | elapsed:    0.1s finished\n"
     ]
    }
   ],
   "source": [
    "known_sub_x = sub_distance_df.filter(items=training_cols, axis='columns')\n",
    "\n",
    "# additional preprocessing for xgboost\n",
    "sub_x = known_sub_x\n",
    "sub_x.columns = bst.feature_names\n",
    "sub_x = xgb.DMatrix(sub_x, label=np.zeros((sub_x.shape[0], 1)))\n",
    "\n",
    "# log_reg_known_preds = log_reg.predict(known_sub_x)\n",
    "# rf_known_preds = rf.predict(known_sub_x)\n",
    "xgb_known_preds = bst.predict(sub_x)\n",
    "# nn_known_preds = nn_model.predict(known_sub_x)"
   ]
  },
  {
   "cell_type": "code",
   "execution_count": 124,
   "metadata": {},
   "outputs": [],
   "source": [
    "# log_reg_known_preds_list = log_reg_known_preds.tolist()\n",
    "# rf_known_preds_list = rf_known_preds.tolist()\n",
    "xgb_known_preds_list = xgb_known_preds.tolist()\n",
    "# nn_known_preds_list = nn_known_preds.tolist()\n",
    "\n",
    "# log reg model output conversion\n",
    "# No additional steps required\n",
    "\n",
    "# rf model output conversion\n",
    "# No additional steps required\n",
    "\n",
    "# xgb model output conversion\n",
    "xgb_known_preds_list = [1 if x > 0.5 else 0 for x in xgb_known_preds_list]\n",
    "\n",
    "# nn model output conversion\n",
    "# nn_known_preds_list = [1 if x[0] > 0.5 else 0 for x in nn_known_preds_list]\n",
    "\n",
    "# log_reg_formatted_preds = pd.Series(['unknown' if row == 0 else None for row in log_reg_known_preds_list])\n",
    "# rf_formatted_preds = pd.Series(['unknown' if row == 0 else None for row in rf_known_preds_list])\n",
    "xgb_formatted_preds = pd.Series(['unknown' if row == 0 else None for row in xgb_known_preds_list])\n",
    "# nn_formatted_preds = pd.Series(['unknown' if row == 0 else None for row in nn_known_preds_list])"
   ]
  },
  {
   "cell_type": "code",
   "execution_count": 125,
   "metadata": {},
   "outputs": [],
   "source": [
    "# log_reg_data_filtered = pd.concat([submission_data_filtered, log_reg_formatted_preds], axis=1)\n",
    "# rf_data_filtered = pd.concat([submission_data_filtered, rf_formatted_preds], axis=1)\n",
    "xgb_data_filtered = pd.concat([submission_data_filtered, xgb_formatted_preds], axis=1)\n",
    "# nn_data_filtered = pd.concat([submission_data_filtered, nn_formatted_preds], axis=1)"
   ]
  },
  {
   "cell_type": "code",
   "execution_count": 128,
   "metadata": {},
   "outputs": [
    {
     "data": {
      "text/plain": [
       "unknown    141\n",
       "Name: 0, dtype: int64"
      ]
     },
     "execution_count": 128,
     "metadata": {},
     "output_type": "execute_result"
    }
   ],
   "source": [
    "xgb_data_filtered.iloc[:, -1].value_counts()"
   ]
  },
  {
   "cell_type": "code",
   "execution_count": 130,
   "metadata": {},
   "outputs": [
    {
     "data": {
      "text/plain": [
       "['unknown_classified_data.pkl']"
      ]
     },
     "execution_count": 130,
     "metadata": {},
     "output_type": "execute_result"
    }
   ],
   "source": [
    "joblib.dump(xgb_data_filtered, 'unknown_classified_data.pkl', compress=9)"
   ]
  }
 ],
 "metadata": {
  "kernelspec": {
   "display_name": "Python 3",
   "language": "python",
   "name": "python3"
  },
  "language_info": {
   "codemirror_mode": {
    "name": "ipython",
    "version": 3
   },
   "file_extension": ".py",
   "mimetype": "text/x-python",
   "name": "python",
   "nbconvert_exporter": "python",
   "pygments_lexer": "ipython3",
   "version": "3.6.4"
  }
 },
 "nbformat": 4,
 "nbformat_minor": 2
}

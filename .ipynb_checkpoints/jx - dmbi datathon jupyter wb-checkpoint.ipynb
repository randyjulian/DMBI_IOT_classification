{
 "cells": [
  {
   "cell_type": "code",
   "execution_count": null,
   "metadata": {
    "scrolled": true
   },
   "outputs": [],
   "source": [
    "import os\n",
    "import csv\n",
    "\n",
    "import numpy as np\n",
    "import pandas as pd\n",
    "\n",
    "# import xgboost\n",
    "from sklearn.externals import joblib\n",
    "from sklearn.utils import compute_class_weight\n",
    "from sklearn.cluster import KMeans\n",
    "from sklearn.metrics import classification_report, log_loss\n",
    "from sklearn.model_selection import train_test_split\n",
    "from sklearn.preprocessing import OneHotEncoder, LabelBinarizer\n",
    "from sklearn.linear_model.logistic import LogisticRegression\n",
    "from sklearn.ensemble import RandomForestClassifier\n",
    "from keras import Sequential\n",
    "from keras import optimizers\n",
    "from keras.callbacks import ModelCheckpoint, EarlyStopping\n",
    "from keras.layers import Dropout, Dense\n",
    "from keras.models import load_model"
   ]
  },
  {
   "cell_type": "markdown",
   "metadata": {},
   "source": [
    "Load cleaned data from pickle file"
   ]
  },
  {
   "cell_type": "code",
   "execution_count": null,
   "metadata": {},
   "outputs": [],
   "source": [
    "cleaned_df = joblib.load('data/cleaned_df.pkl')"
   ]
  },
  {
   "cell_type": "markdown",
   "metadata": {},
   "source": [
    "Load top 50 features and extract top 50 features into a list"
   ]
  },
  {
   "cell_type": "code",
   "execution_count": null,
   "metadata": {},
   "outputs": [],
   "source": [
    "top_50_feats = pd.read_csv('top50rfinit.csv')\n",
    "top_50_feats_list = top_50_feats['variable'].tolist()[:20]\n",
    "top_50_feats_list.append('device_category')"
   ]
  },
  {
   "cell_type": "code",
   "execution_count": null,
   "metadata": {},
   "outputs": [],
   "source": [
    "filtered_df = cleaned_df.filter(items=top_50_feats_list, axis='columns')"
   ]
  },
  {
   "cell_type": "code",
   "execution_count": null,
   "metadata": {},
   "outputs": [],
   "source": [
    "filtered_df.head()"
   ]
  },
  {
   "cell_type": "markdown",
   "metadata": {},
   "source": [
    "Encode x and y into numpy vectors for neural network"
   ]
  },
  {
   "cell_type": "code",
   "execution_count": null,
   "metadata": {},
   "outputs": [],
   "source": [
    "x = filtered_df.drop('device_category', axis=1)\n",
    "y = filtered_df['device_category']\n",
    "\n",
    "encoded_x = np.array(x)\n",
    "label_bin = LabelBinarizer()\n",
    "label_bin.fit(np.array(y))\n",
    "encoded_y = label_bin.transform(y)\n",
    "encoded_y = np.array(encoded_y)\n",
    "\n",
    "weights = compute_class_weight('balanced', np.unique(y), y)"
   ]
  },
  {
   "cell_type": "markdown",
   "metadata": {},
   "source": [
    "Neural Network Model Functions"
   ]
  },
  {
   "cell_type": "code",
   "execution_count": null,
   "metadata": {},
   "outputs": [],
   "source": [
    "def build_nn_model(x, y):\n",
    "    model = Sequential()\n",
    "\n",
    "    model.add(Dense(100, activation='relu', input_shape=tuple(x.shape[1:])))\n",
    "    model.add(Dropout(0.20))\n",
    "#     model.add(Dense(100, activation='relu'))\n",
    "#     model.add(Dropout(0.25))\n",
    "#     model.add(Dense(100, activation='relu'))\n",
    "#     model.add(Dropout(0.25))\n",
    "    model.add(Dense(y.shape[1], activation='softmax'))\n",
    "\n",
    "\n",
    "    # op = optimizers.SGD(lr=0.01, momentum=0.9, nesterov=True)\n",
    "    op = optimizers.Adam(lr=0.005)\n",
    "\n",
    "    model.compile(optimizer=op, metrics=['categorical_accuracy'], loss='categorical_crossentropy')\n",
    "    return model\n",
    "\n",
    "\n",
    "def train_nn_model(x, y, model, model_name, weights):\n",
    "\n",
    "    save_checkpoint = ModelCheckpoint(model_name, save_best_only=True, verbose=1)\n",
    "    early_stop = EarlyStopping(min_delta=0.01, patience=200, verbose=1, mode='min')\n",
    "    try:\n",
    "        model.fit(x, y, batch_size=4000, epochs=100, verbose=2, class_weight=weights,\n",
    "                  callbacks=[save_checkpoint, early_stop], validation_split=0.2, shuffle=True)\n",
    "    except Exception as e:\n",
    "        print(e)"
   ]
  },
  {
   "cell_type": "code",
   "execution_count": null,
   "metadata": {},
   "outputs": [],
   "source": [
    "nn_model = build_nn_model(encoded_x, encoded_y)"
   ]
  },
  {
   "cell_type": "code",
   "execution_count": null,
   "metadata": {
    "scrolled": true
   },
   "outputs": [],
   "source": [
    "train_nn_model(encoded_x, encoded_y, nn_model, model_name='top50_nn_model.h5', weights=weights)"
   ]
  },
  {
   "cell_type": "code",
   "execution_count": null,
   "metadata": {},
   "outputs": [],
   "source": [
    "no_smoke = filtered_df[filtered_df['device_category'] != 'smoke_detector']\n",
    "no_smoke_strat, _, _, _ = train_test_split(no_smoke.iloc[:,:-1], no_smoke.iloc[:,-1], random_state=1, train_size=1, no_smoke.iloc[:,-1])\n",
    "\n",
    "smoke = filtered_df[filtered_df['device_category'] != 'smoke_detector']\n",
    "smoke_500 = pd.concat([smoke, smoke, smoke], ignore_index=True, axis=0)\n",
    "smoke_500 = smoke_500.iloc[:,:-1]"
   ]
  },
  {
   "cell_type": "code",
   "execution_count": null,
   "metadata": {},
   "outputs": [],
   "source": [
    "no_smoke_strat.shape"
   ]
  },
  {
   "cell_type": "code",
   "execution_count": null,
   "metadata": {},
   "outputs": [],
   "source": [
    "smoke_500.shape"
   ]
  },
  {
   "cell_type": "code",
   "execution_count": null,
   "metadata": {},
   "outputs": [],
   "source": [
    "kmeans = KMeans(n_clusters=10, random_state=1).fit(x)"
   ]
  }
 ],
 "metadata": {
  "kernelspec": {
   "display_name": "Python 3",
   "language": "python",
   "name": "python3"
  },
  "language_info": {
   "codemirror_mode": {
    "name": "ipython",
    "version": 3
   },
   "file_extension": ".py",
   "mimetype": "text/x-python",
   "name": "python",
   "nbconvert_exporter": "python",
   "pygments_lexer": "ipython3",
   "version": "3.6.4"
  }
 },
 "nbformat": 4,
 "nbformat_minor": 2
}
